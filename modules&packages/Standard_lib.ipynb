{
 "cells": [
  {
   "cell_type": "markdown",
   "metadata": {},
   "source": [
    "Standard Library Overview\n"
   ]
  },
  {
   "cell_type": "markdown",
   "metadata": {},
   "source": [
    "Python's standars Library is vast collection of modules and a pckages that come bundled with python. \n",
    "\n",
    "providing a wide range of function out of box "
   ]
  },
  {
   "cell_type": "code",
   "execution_count": 1,
   "metadata": {},
   "outputs": [
    {
     "name": "stdout",
     "output_type": "stream",
     "text": [
      "array('i', [1, 3, 4, 6, 7])\n"
     ]
    }
   ],
   "source": [
    "import array\n",
    "arr=array.array(\"i\",[1,3,4,6,7])\n",
    "print(arr)"
   ]
  },
  {
   "cell_type": "code",
   "execution_count": 3,
   "metadata": {},
   "outputs": [
    {
     "name": "stdout",
     "output_type": "stream",
     "text": [
      "3.0\n"
     ]
    }
   ],
   "source": [
    "import math\n",
    "print(math.sqrt(9))"
   ]
  },
  {
   "cell_type": "code",
   "execution_count": 5,
   "metadata": {},
   "outputs": [
    {
     "name": "stdout",
     "output_type": "stream",
     "text": [
      "7\n",
      "e\n"
     ]
    }
   ],
   "source": [
    "import random\n",
    "print(random.randint(1,10))\n",
    "print(random.choice([\"a\",\"b\",\"c\",\"d\",\"e\"]))"
   ]
  },
  {
   "cell_type": "code",
   "execution_count": 6,
   "metadata": {},
   "outputs": [
    {
     "name": "stdout",
     "output_type": "stream",
     "text": [
      "c:\\Users\\Rugved\\Desktop\\Generative AI with Langchain and Huggingface\\modules&packages\n"
     ]
    }
   ],
   "source": [
    "# file and directory access\n",
    "import os\n",
    "print(os.getcwd())"
   ]
  },
  {
   "cell_type": "code",
   "execution_count": 7,
   "metadata": {},
   "outputs": [],
   "source": [
    "os.mkdir('maths')"
   ]
  },
  {
   "cell_type": "code",
   "execution_count": 8,
   "metadata": {},
   "outputs": [
    {
     "data": {
      "text/plain": [
       "'copy.txt'"
      ]
     },
     "execution_count": 8,
     "metadata": {},
     "output_type": "execute_result"
    }
   ],
   "source": [
    "# high level opration on files and collection\n",
    "import shutil\n",
    "shutil.copyfile('source.txt','copy.txt')"
   ]
  },
  {
   "cell_type": "code",
   "execution_count": null,
   "metadata": {},
   "outputs": [
    {
     "name": "stdout",
     "output_type": "stream",
     "text": [
      "<class 'str'>\n",
      "{\"name\": \"rugved\", \"age\": 20}\n",
      "<class 'dict'>\n",
      "{'name': 'rugved', 'age': 20}\n"
     ]
    }
   ],
   "source": [
    "# Data serialization\n",
    "import json\n",
    "data={'name':'rugved','age':20}\n",
    "\n",
    "# Converting Python Dictionary to JSO\n",
    "json_str=json.dumps(data)\n",
    "print(type(json_str))\n",
    "print(json_str)\n",
    "\n",
    "parsed_data=json.loads(json_str)\n",
    "print(type(parsed_data))\n",
    "print(parsed_data)\n"
   ]
  },
  {
   "cell_type": "code",
   "execution_count": 19,
   "metadata": {},
   "outputs": [
    {
     "name": "stdout",
     "output_type": "stream",
     "text": [
      "['name', 'age']\n",
      "['rugved', '32']\n"
     ]
    }
   ],
   "source": [
    "# Csv\n",
    "\n",
    "import csv\n",
    "with open(\"example.csv\",mode='w',newline='') as file:\n",
    "    writer=csv.writer(file)\n",
    "    writer.writerow(['name',\"age\"])\n",
    "    writer.writerow(['rugved',32])\n",
    "    \n",
    "with open(\"example.csv\",mode='r') as file:\n",
    "     reader=csv.reader(file)\n",
    "     for row in reader:\n",
    "         print(row)"
   ]
  },
  {
   "cell_type": "code",
   "execution_count": null,
   "metadata": {},
   "outputs": [
    {
     "name": "stdout",
     "output_type": "stream",
     "text": [
      "123\n"
     ]
    }
   ],
   "source": [
    "# regular Expresiion\n",
    "import re\n",
    "pattern=r'\\d+'    # d is digit\n",
    "text=\"there are 123 apples\"\n",
    "match=re.search(pattern,text)\n",
    "print(match.group())\n"
   ]
  },
  {
   "cell_type": "code",
   "execution_count": null,
   "metadata": {},
   "outputs": [],
   "source": []
  },
  {
   "cell_type": "code",
   "execution_count": null,
   "metadata": {},
   "outputs": [],
   "source": []
  },
  {
   "cell_type": "code",
   "execution_count": null,
   "metadata": {},
   "outputs": [],
   "source": []
  },
  {
   "cell_type": "code",
   "execution_count": null,
   "metadata": {},
   "outputs": [],
   "source": []
  },
  {
   "cell_type": "code",
   "execution_count": null,
   "metadata": {},
   "outputs": [],
   "source": []
  },
  {
   "cell_type": "code",
   "execution_count": null,
   "metadata": {},
   "outputs": [],
   "source": []
  }
 ],
 "metadata": {
  "kernelspec": {
   "display_name": "Python 3",
   "language": "python",
   "name": "python3"
  },
  "language_info": {
   "codemirror_mode": {
    "name": "ipython",
    "version": 3
   },
   "file_extension": ".py",
   "mimetype": "text/x-python",
   "name": "python",
   "nbconvert_exporter": "python",
   "pygments_lexer": "ipython3",
   "version": "3.12.0"
  }
 },
 "nbformat": 4,
 "nbformat_minor": 2
}
