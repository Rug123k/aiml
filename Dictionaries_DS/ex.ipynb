{
 "cells": [
  {
   "cell_type": "markdown",
   "metadata": {},
   "source": [
    "1. Introduction to dictionaries\n",
    "\n",
    "2. Cerating Dictionaries\n",
    "\n",
    "3. Modifying Dictionary Elements\n",
    "\n",
    "4. Accessing Dictionary Elements\n",
    "\n",
    "5. Dictionary Methods\n",
    "\n",
    "6. Iterating Over Dictionaries\n",
    "\n",
    "7. Nested Dictionaries\n",
    "\n",
    "8. Dictionary Comprehensions\n",
    "\n",
    "9. Examples"
   ]
  },
  {
   "cell_type": "markdown",
   "metadata": {},
   "source": [
    "Dictionaries are unordered collection of items they store data in key -value pairs.keys must be unique and immutable (eg. String,numbers,or tuples) while values can be of any type"
   ]
  },
  {
   "cell_type": "code",
   "execution_count": 5,
   "metadata": {},
   "outputs": [
    {
     "data": {
      "text/plain": [
       "dict"
      ]
     },
     "execution_count": 5,
     "metadata": {},
     "output_type": "execute_result"
    }
   ],
   "source": [
    "# Create Dictionaries 1 way\n",
    "empty_dic={}\n",
    "type(empty_dic)"
   ]
  },
  {
   "cell_type": "code",
   "execution_count": 6,
   "metadata": {},
   "outputs": [
    {
     "data": {
      "text/plain": [
       "dict"
      ]
     },
     "execution_count": 6,
     "metadata": {},
     "output_type": "execute_result"
    }
   ],
   "source": [
    "# 2 way\n",
    "rug=dict()\n",
    "type(rug)"
   ]
  },
  {
   "cell_type": "code",
   "execution_count": 7,
   "metadata": {},
   "outputs": [
    {
     "name": "stdout",
     "output_type": "stream",
     "text": [
      "{'name': 'Rugved', 'age': 20, 'gender': 'male'}\n"
     ]
    },
    {
     "data": {
      "text/plain": [
       "dict"
      ]
     },
     "execution_count": 7,
     "metadata": {},
     "output_type": "execute_result"
    }
   ],
   "source": [
    "# Key:value\n",
    "Student={\"name\":\"Rugved\",\"age\":20,\"gender\":\"male\"}\n",
    "print(Student)\n",
    "type(Student)"
   ]
  },
  {
   "cell_type": "code",
   "execution_count": 9,
   "metadata": {},
   "outputs": [
    {
     "name": "stdout",
     "output_type": "stream",
     "text": [
      "male\n"
     ]
    }
   ],
   "source": [
    "# Accessing Dictionary Elements\n",
    "Student={\"name\":\"Rugved\",\"age\":20,\"gender\":\"male\"}\n",
    "print(Student['gender']) "
   ]
  },
  {
   "cell_type": "code",
   "execution_count": 10,
   "metadata": {},
   "outputs": [
    {
     "name": "stdout",
     "output_type": "stream",
     "text": [
      "20\n"
     ]
    }
   ],
   "source": [
    "# Access using get() Method\n",
    "print(Student.get('age'))"
   ]
  },
  {
   "cell_type": "code",
   "execution_count": 11,
   "metadata": {},
   "outputs": [
    {
     "name": "stdout",
     "output_type": "stream",
     "text": [
      "Not Available\n"
     ]
    }
   ],
   "source": [
    "# if value or key not available then we give default message\n",
    "print(Student.get(\"last_Name\",\"Not Available\"))\n",
    "# last name is key but not in the dictionary so we will give default message to print \"Not available\"\n",
    " "
   ]
  },
  {
   "cell_type": "markdown",
   "metadata": {},
   "source": [
    "# Modifying Dictonary elemeents\n",
    "# Dictonary are mutable ,so you can add,update or delete elements"
   ]
  },
  {
   "cell_type": "code",
   "execution_count": 13,
   "metadata": {},
   "outputs": [
    {
     "name": "stdout",
     "output_type": "stream",
     "text": [
      "{'name': 'Rugved', 'age': 20, 'gender': 'male', 'grade': 'b'}\n",
      "{'name': 'Rugved', 'age': 21, 'gender': 'male', 'grade': 'b'}\n",
      "{'name': 'Rugved', 'age': 21, 'gender': 'male', 'grade': 'b', 'address': 'india'}\n",
      "{'name': 'Rugved', 'age': 21, 'gender': 'male', 'address': 'india'}\n"
     ]
    }
   ],
   "source": [
    "Student={\"name\":\"Rugved\",\"age\":20,\"gender\":\"male\",\"grade\":\"b\"}\n",
    "print(Student)\n",
    "# Modify\n",
    "Student[\"age\"]=21\n",
    "print(Student)\n",
    "#add\n",
    "Student[\"address\"]=\"india\"\n",
    "print(Student)\n",
    "# delete\n",
    "del Student[\"grade\"]\n",
    "print(Student)"
   ]
  },
  {
   "cell_type": "markdown",
   "metadata": {},
   "source": [
    "Dictionary Methods"
   ]
  },
  {
   "cell_type": "code",
   "execution_count": 14,
   "metadata": {},
   "outputs": [
    {
     "name": "stdout",
     "output_type": "stream",
     "text": [
      "dict_keys(['name', 'age', 'gender', 'address'])\n"
     ]
    }
   ],
   "source": [
    "# keys key word find out the all key  from the dictionary\n",
    "keys=Student.keys()\n",
    "print(keys)"
   ]
  },
  {
   "cell_type": "code",
   "execution_count": 15,
   "metadata": {},
   "outputs": [
    {
     "name": "stdout",
     "output_type": "stream",
     "text": [
      "dict_values(['Rugved', 21, 'male', 'india'])\n"
     ]
    }
   ],
   "source": [
    "# values key  word find out the all  value from the dictionary\n",
    "values=Student.values()\n",
    "print(values)"
   ]
  },
  {
   "cell_type": "code",
   "execution_count": 16,
   "metadata": {},
   "outputs": [
    {
     "name": "stdout",
     "output_type": "stream",
     "text": [
      "dict_items([('name', 'Rugved'), ('age', 21), ('gender', 'male'), ('address', 'india')])\n"
     ]
    }
   ],
   "source": [
    "# item it will give values in pair\n",
    "items=Student.items()\n",
    "print(items)"
   ]
  },
  {
   "cell_type": "code",
   "execution_count": 24,
   "metadata": {},
   "outputs": [],
   "source": [
    "# Shallow Copy= A shallow copy in Python means copying an object, but not the things inside it. If the copied object has other objects"
   ]
  },
  {
   "cell_type": "code",
   "execution_count": 17,
   "metadata": {},
   "outputs": [
    {
     "name": "stdout",
     "output_type": "stream",
     "text": [
      "{'name': 'Rugved', 'age': 21, 'gender': 'male', 'address': 'india'}\n",
      "{'name': 'Rugved', 'age': 21, 'gender': 'male', 'address': 'india'}\n"
     ]
    }
   ],
   "source": [
    "# shallow copy\n",
    "student_copy=Student\n",
    "print(Student)\n",
    "print(student_copy)"
   ]
  },
  {
   "cell_type": "code",
   "execution_count": 21,
   "metadata": {},
   "outputs": [
    {
     "name": "stdout",
     "output_type": "stream",
     "text": [
      "{'name': 'ruuugved', 'age': 21, 'gender': 'male', 'address': 'india'}\n",
      "{'name': 'ruuugved', 'age': 21, 'gender': 'male', 'address': 'india'}\n"
     ]
    }
   ],
   "source": [
    "Student[\"name\"]=\"ruuugved\"\n",
    "print(Student)\n",
    "print(Student)"
   ]
  },
  {
   "cell_type": "code",
   "execution_count": 22,
   "metadata": {},
   "outputs": [
    {
     "name": "stdout",
     "output_type": "stream",
     "text": [
      "{'name': 'ruuugved', 'age': 21, 'gender': 'male', 'address': 'india'}\n",
      "{'name': 'ruuugved', 'age': 21, 'gender': 'male', 'address': 'india'}\n"
     ]
    }
   ],
   "source": [
    "student_copy=Student.copy()# it will create a shalow copy\n",
    "print(student_copy)\n",
    "print(Student)"
   ]
  },
  {
   "cell_type": "code",
   "execution_count": 23,
   "metadata": {},
   "outputs": [
    {
     "name": "stdout",
     "output_type": "stream",
     "text": [
      "{'name': 'ruuugved', 'age': 21, 'gender': 'male', 'address': 'india'}\n",
      "{'name': 'Rugved', 'age': 21, 'gender': 'male', 'address': 'india'}\n"
     ]
    }
   ],
   "source": [
    "Student[\"name\"]=\"Rugved\"\n",
    "print(student_copy)\n",
    "print(Student)"
   ]
  },
  {
   "cell_type": "markdown",
   "metadata": {},
   "source": [
    "Iterating over Dictionaries"
   ]
  },
  {
   "cell_type": "code",
   "execution_count": 26,
   "metadata": {},
   "outputs": [
    {
     "name": "stdout",
     "output_type": "stream",
     "text": [
      "name\n",
      "age\n",
      "gender\n",
      "address\n"
     ]
    }
   ],
   "source": [
    "# u can use loops for iterate over dictionaries,keys values or items\n",
    "\n",
    "# iterating over key\n",
    "\n",
    "for keys in Student.keys():\n",
    "    print(keys)\n"
   ]
  },
  {
   "cell_type": "code",
   "execution_count": 29,
   "metadata": {},
   "outputs": [
    {
     "name": "stdout",
     "output_type": "stream",
     "text": [
      "dict_values(['Rugved', 21, 'male', 'india'])\n",
      "dict_values(['Rugved', 21, 'male', 'india'])\n",
      "dict_values(['Rugved', 21, 'male', 'india'])\n",
      "dict_values(['Rugved', 21, 'male', 'india'])\n"
     ]
    }
   ],
   "source": [
    "# iterating over values\n",
    "\n",
    "for keys in Student.values():\n",
    "    print(values)"
   ]
  },
  {
   "cell_type": "code",
   "execution_count": 30,
   "metadata": {},
   "outputs": [
    {
     "name": "stdout",
     "output_type": "stream",
     "text": [
      "name:Rugved\n",
      "age:21\n",
      "gender:male\n",
      "address:india\n"
     ]
    }
   ],
   "source": [
    "# iterating over values key pair\n",
    "for keys,values in Student.items():\n",
    "    print(f\"{keys}:{values}\")\n",
    "    "
   ]
  },
  {
   "cell_type": "code",
   "execution_count": 31,
   "metadata": {},
   "outputs": [
    {
     "name": "stdout",
     "output_type": "stream",
     "text": [
      "dict_items([('name', 'Rugved'), ('age', 21), ('gender', 'male'), ('address', 'india')])\n",
      "dict_items([('name', 'Rugved'), ('age', 21), ('gender', 'male'), ('address', 'india')])\n",
      "dict_items([('name', 'Rugved'), ('age', 21), ('gender', 'male'), ('address', 'india')])\n",
      "dict_items([('name', 'Rugved'), ('age', 21), ('gender', 'male'), ('address', 'india')])\n"
     ]
    }
   ],
   "source": [
    "for keys,values in Student.items():\n",
    "    print(items)"
   ]
  },
  {
   "cell_type": "markdown",
   "metadata": {},
   "source": [
    "Nested Dictionaries"
   ]
  },
  {
   "cell_type": "code",
   "execution_count": 34,
   "metadata": {},
   "outputs": [
    {
     "name": "stdout",
     "output_type": "stream",
     "text": [
      "{'student1': {'name': 'Rug', 'age': 20}, 'student2': {'name': 'Ru', 'age': 21}, 'student3': {'name': 'R', 'age': 23}}\n"
     ]
    }
   ],
   "source": [
    "Student={\n",
    "    \"student1\":{\"name\":\"Rug\",\"age\":20},\n",
    "    \"student2\":{\"name\":\"Ru\",\"age\":21},\n",
    "    \"student3\":{\"name\":\"R\",\"age\":23},\n",
    "    \n",
    "}\n",
    "print(Student)"
   ]
  },
  {
   "cell_type": "code",
   "execution_count": 36,
   "metadata": {},
   "outputs": [
    {
     "data": {
      "text/plain": [
       "dict_items([('student1', {'name': 'Rug', 'age': 20}), ('student2', {'name': 'Ru', 'age': 21}), ('student3', {'name': 'R', 'age': 23})])"
      ]
     },
     "execution_count": 36,
     "metadata": {},
     "output_type": "execute_result"
    }
   ],
   "source": [
    "Student.items()"
   ]
  },
  {
   "cell_type": "code",
   "execution_count": 35,
   "metadata": {},
   "outputs": [
    {
     "name": "stdout",
     "output_type": "stream",
     "text": [
      "R\n",
      "23\n"
     ]
    }
   ],
   "source": [
    "# Access nested Dictionaries\n",
    "print(Student[\"student3\"][\"name\"])\n",
    "print(Student[\"student3\"][\"age\"])"
   ]
  },
  {
   "cell_type": "code",
   "execution_count": 38,
   "metadata": {},
   "outputs": [
    {
     "name": "stdout",
     "output_type": "stream",
     "text": [
      "student1:{'name': 'Rug', 'age': 20}\n",
      "name:Rug\n",
      "age:20\n",
      "student2:{'name': 'Ru', 'age': 21}\n",
      "name:Ru\n",
      "age:21\n",
      "student3:{'name': 'R', 'age': 23}\n",
      "name:R\n",
      "age:23\n"
     ]
    }
   ],
   "source": [
    "# ITERATING over Nested dictionaries\n",
    "for studetn_id,student_inf in Student.items():\n",
    "    print(f\"{studetn_id}:{student_inf}\")\n",
    "    for keys,values in student_inf.items():\n",
    "        print(f\"{keys}:{values}\")"
   ]
  },
  {
   "cell_type": "code",
   "execution_count": 1,
   "metadata": {},
   "outputs": [
    {
     "name": "stdout",
     "output_type": "stream",
     "text": [
      "{0: 0, 1: 1, 2: 4, 3: 9, 4: 16}\n"
     ]
    }
   ],
   "source": [
    "# Dictionary Comphrehension \n",
    "squares={x:x**2 for x in range(5)}\n",
    "print(squares)\n"
   ]
  },
  {
   "cell_type": "code",
   "execution_count": 3,
   "metadata": {},
   "outputs": [
    {
     "name": "stdout",
     "output_type": "stream",
     "text": [
      "{0: 0, 2: 4, 4: 16, 6: 36, 8: 64}\n"
     ]
    }
   ],
   "source": [
    "#conditional Dictionary Comphrehension \n",
    "squares_evens={x:x**2 for x in range(10) if x%2==0}\n",
    "print(squares_evens)"
   ]
  },
  {
   "cell_type": "code",
   "execution_count": null,
   "metadata": {},
   "outputs": [
    {
     "name": "stdout",
     "output_type": "stream",
     "text": [
      "{1: 1, 2: 2, 3: 3, 4: 7, 5: 1}\n"
     ]
    }
   ],
   "source": [
    "# practical examples \n",
    "# use a dictionary to count he frequency of elements in list\n",
    "num=[1,2,2,3,3,3,4,4,4,4,4,4,5,4]  #num is a list of numbers.\n",
    "frequency={}\n",
    "for number in num:\n",
    "    if number in frequency: \n",
    "        frequency[number]+=1\n",
    "    else:\n",
    "        frequency[number]=1\n",
    "print(frequency)\n",
    "        \n",
    "\n",
    "\n"
   ]
  },
  {
   "cell_type": "code",
   "execution_count": 13,
   "metadata": {},
   "outputs": [
    {
     "name": "stdout",
     "output_type": "stream",
     "text": [
      "{'a': 1, 'b': 2, 'c': 22, 'd': 12}\n"
     ]
    }
   ],
   "source": [
    "# merge 2 dictionaries into one\n",
    "d1={\"a\":1,\"b\":2}\n",
    "d2={\"c\":22,\"d\":12}\n",
    "merged_dict={**d1,**d2}\n",
    "print(merged_dict)"
   ]
  },
  {
   "cell_type": "code",
   "execution_count": null,
   "metadata": {},
   "outputs": [],
   "source": []
  },
  {
   "cell_type": "code",
   "execution_count": null,
   "metadata": {},
   "outputs": [],
   "source": []
  },
  {
   "cell_type": "code",
   "execution_count": null,
   "metadata": {},
   "outputs": [],
   "source": []
  },
  {
   "cell_type": "code",
   "execution_count": null,
   "metadata": {},
   "outputs": [],
   "source": []
  },
  {
   "cell_type": "code",
   "execution_count": null,
   "metadata": {},
   "outputs": [],
   "source": []
  },
  {
   "cell_type": "code",
   "execution_count": null,
   "metadata": {},
   "outputs": [],
   "source": []
  }
 ],
 "metadata": {
  "kernelspec": {
   "display_name": "Python 3",
   "language": "python",
   "name": "python3"
  },
  "language_info": {
   "codemirror_mode": {
    "name": "ipython",
    "version": 3
   },
   "file_extension": ".py",
   "mimetype": "text/x-python",
   "name": "python",
   "nbconvert_exporter": "python",
   "pygments_lexer": "ipython3",
   "version": "3.12.0"
  }
 },
 "nbformat": 4,
 "nbformat_minor": 2
}
