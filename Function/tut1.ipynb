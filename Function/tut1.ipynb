{
 "cells": [
  {
   "cell_type": "markdown",
   "metadata": {},
   "source": [
    "Function In Python\n"
   ]
  },
  {
   "cell_type": "code",
   "execution_count": 1,
   "metadata": {},
   "outputs": [],
   "source": [
    "# 1. introduction To Function\n",
    "# 2. Defining Function\n",
    "# 3. Calling Function\n",
    "# 4. Function Parameter\n",
    "# 5. Default parameter\n",
    "# 6. Variable-Length Arguments\n",
    "# 7. Retuen Statement\n"
   ]
  },
  {
   "cell_type": "code",
   "execution_count": null,
   "metadata": {},
   "outputs": [],
   "source": [
    "# A function is a block of code that perform a specific task function help in organizing code, reusing code, and improving redablity.\n",
    "\n",
    "# syntax\n",
    "def Function_name(parameters):\n",
    "    \"\"\"Docstring\"\"\"\n",
    "    # Function Body\n",
    "    return expression\n",
    "\n"
   ]
  },
  {
   "cell_type": "code",
   "execution_count": 2,
   "metadata": {},
   "outputs": [
    {
     "name": "stdout",
     "output_type": "stream",
     "text": [
      "Even\n"
     ]
    }
   ],
   "source": [
    "# why function require.\n",
    "num=12\n",
    "if num%2==0:\n",
    "    print(\"Even\")\n",
    "else:\n",
    "    print(\"odd\")"
   ]
  },
  {
   "cell_type": "code",
   "execution_count": 3,
   "metadata": {},
   "outputs": [],
   "source": [
    "# suppose i want to use about code again and again then i should create the function of that\n",
    "# code and call the function and re-use it\n",
    "def even_odd(num):\n",
    "    \"\"\"This function perform even or odd\"\"\"\n",
    "    if num%2==0:\n",
    "        print(\"Even\")\n",
    "    else:\n",
    "        print(\"odd\")\n"
   ]
  },
  {
   "cell_type": "code",
   "execution_count": null,
   "metadata": {},
   "outputs": [
    {
     "name": "stdout",
     "output_type": "stream",
     "text": [
      "Even\n"
     ]
    }
   ],
   "source": [
    "#i will call the above function so i can pas the value and find out the number is even or odd\n",
    "even_odd(12)"
   ]
  },
  {
   "cell_type": "code",
   "execution_count": 5,
   "metadata": {},
   "outputs": [
    {
     "data": {
      "text/plain": [
       "5"
      ]
     },
     "execution_count": 5,
     "metadata": {},
     "output_type": "execute_result"
    }
   ],
   "source": [
    "# Function with multiple parameter\n",
    "def add(a,b):\n",
    "    \"\"\"It function help to add to numbers\"\"\"\n",
    "    c=a+b\n",
    "    return c\n",
    "add(2,3)\n",
    "\n",
    "    \n"
   ]
  },
  {
   "cell_type": "code",
   "execution_count": 6,
   "metadata": {},
   "outputs": [
    {
     "data": {
      "text/plain": [
       "5"
      ]
     },
     "execution_count": 6,
     "metadata": {},
     "output_type": "execute_result"
    }
   ],
   "source": [
    "# Function with multiple parameter\n",
    "def add(a,b):\n",
    "    \"\"\"It function help to add to numbers\"\"\"\n",
    "    return a+b\n",
    "   \n",
    "add(2,3)\n"
   ]
  },
  {
   "cell_type": "code",
   "execution_count": null,
   "metadata": {},
   "outputs": [
    {
     "name": "stdout",
     "output_type": "stream",
     "text": [
      "hello Rugved\n"
     ]
    }
   ],
   "source": [
    "# Default parameter 1 \n",
    "def greet(name):\n",
    "    print(f\"hello {name}\")\n",
    "    \n",
    "greet(\"Rugved\")"
   ]
  },
  {
   "cell_type": "code",
   "execution_count": null,
   "metadata": {},
   "outputs": [
    {
     "name": "stdout",
     "output_type": "stream",
     "text": [
      "hello Guest\n"
     ]
    }
   ],
   "source": [
    "# Default parameter 2\n",
    "def greet(name=\"Guest\"):       # Guest is defaulr value if we not give in function call it will default take a guest\n",
    "    print(f\"hello {name}\")\n",
    "    \n",
    "greet()"
   ]
  },
  {
   "cell_type": "code",
   "execution_count": null,
   "metadata": {},
   "outputs": [
    {
     "name": "stdout",
     "output_type": "stream",
     "text": [
      "hello Rugved\n"
     ]
    }
   ],
   "source": [
    "# Default parameter 3\n",
    "def greet(name=\"guest\"): # we will give guest default value and we give also value when we call then it will tak function calling value\n",
    "    print(f\"hello {name}\")\n",
    "    \n",
    "greet(\"Rugved\")"
   ]
  },
  {
   "cell_type": "code",
   "execution_count": null,
   "metadata": {},
   "outputs": [],
   "source": [
    "# variable length arguments\n",
    "# positional arguments\n",
    "# Key word arguments"
   ]
  },
  {
   "cell_type": "code",
   "execution_count": 11,
   "metadata": {},
   "outputs": [],
   "source": [
    "# positional arguments\n",
    "def print_num(*args):\n",
    "    for num in args:\n",
    "        print(num)"
   ]
  },
  {
   "cell_type": "code",
   "execution_count": 12,
   "metadata": {},
   "outputs": [
    {
     "name": "stdout",
     "output_type": "stream",
     "text": [
      "1\n",
      "2\n",
      "3\n",
      "4\n",
      "5\n",
      "6\n",
      "67\n",
      "7\n",
      "Rugved\n"
     ]
    }
   ],
   "source": [
    "print_num(1,2,3,4,5,6,67,7,\"Rugved\")"
   ]
  },
  {
   "cell_type": "code",
   "execution_count": 13,
   "metadata": {},
   "outputs": [
    {
     "name": "stdout",
     "output_type": "stream",
     "text": [
      "name:Rugved\n",
      "age:32\n",
      "country:india\n"
     ]
    }
   ],
   "source": [
    "# keywords Argument\n",
    "\n",
    "def print_details(**kwargs):\n",
    "    for key,value in kwargs.items():\n",
    "        print(f\"{key}:{value}\")\n",
    "print_details(name=\"Rugved\",age=\"32\",country=\"india\")"
   ]
  },
  {
   "cell_type": "code",
   "execution_count": null,
   "metadata": {},
   "outputs": [],
   "source": []
  },
  {
   "cell_type": "code",
   "execution_count": null,
   "metadata": {},
   "outputs": [],
   "source": []
  },
  {
   "cell_type": "code",
   "execution_count": null,
   "metadata": {},
   "outputs": [],
   "source": []
  },
  {
   "cell_type": "code",
   "execution_count": null,
   "metadata": {},
   "outputs": [],
   "source": []
  },
  {
   "cell_type": "code",
   "execution_count": null,
   "metadata": {},
   "outputs": [],
   "source": []
  },
  {
   "cell_type": "code",
   "execution_count": null,
   "metadata": {},
   "outputs": [],
   "source": []
  },
  {
   "cell_type": "code",
   "execution_count": null,
   "metadata": {},
   "outputs": [],
   "source": []
  },
  {
   "cell_type": "code",
   "execution_count": null,
   "metadata": {},
   "outputs": [],
   "source": []
  }
 ],
 "metadata": {
  "kernelspec": {
   "display_name": "Python 3",
   "language": "python",
   "name": "python3"
  },
  "language_info": {
   "codemirror_mode": {
    "name": "ipython",
    "version": 3
   },
   "file_extension": ".py",
   "mimetype": "text/x-python",
   "name": "python",
   "nbconvert_exporter": "python",
   "pygments_lexer": "ipython3",
   "version": "3.12.0"
  }
 },
 "nbformat": 4,
 "nbformat_minor": 2
}
