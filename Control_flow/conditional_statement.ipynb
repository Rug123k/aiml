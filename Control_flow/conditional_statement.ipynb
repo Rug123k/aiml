{
 "cells": [
  {
   "cell_type": "markdown",
   "metadata": {},
   "source": [
    "Conditional Statements"
   ]
  },
  {
   "cell_type": "markdown",
   "metadata": {},
   "source": [
    "1. Introduction to conditional Statements\n",
    "2. If Statements\n",
    "3. else Statements\n",
    "4. elif Statements\n",
    "5. Nested Conditional Statments\n",
    "6. Examples\n",
    "7. common errors And best Practices\n"
   ]
  },
  {
   "cell_type": "code",
   "execution_count": 1,
   "metadata": {},
   "outputs": [
    {
     "name": "stdout",
     "output_type": "stream",
     "text": [
      "true\n"
     ]
    }
   ],
   "source": [
    "# if statement\n",
    "age=20\n",
    "\n",
    "if age>=20:\n",
    "    print(\"true\")\n",
    "else:\n",
    "    print(\"false\")"
   ]
  },
  {
   "cell_type": "code",
   "execution_count": null,
   "metadata": {},
   "outputs": [
    {
     "name": "stdout",
     "output_type": "stream",
     "text": [
      "You Buy Home and car\n"
     ]
    }
   ],
   "source": [
    "# elif\n",
    "# use to cheack a multiple condition\n",
    "age=30\n",
    "if age>=30:\n",
    "    print(\"You Buy Home and car\")\n",
    "elif age>=25:\n",
    "    print(\"You have Car And Bike\")\n",
    "else:\n",
    "    print(\"study\")\n"
   ]
  },
  {
   "cell_type": "code",
   "execution_count": 12,
   "metadata": {},
   "outputs": [
    {
     "name": "stdout",
     "output_type": "stream",
     "text": [
      "you are adult\n"
     ]
    }
   ],
   "source": [
    "age=20\n",
    "if age<13:\n",
    "    print(\"you are a chaild\")\n",
    "elif age<18:\n",
    "    print(\"you are teen\")\n",
    "else:\n",
    "    print(\"you are adult\")\n"
   ]
  },
  {
   "cell_type": "code",
   "execution_count": 16,
   "metadata": {},
   "outputs": [
    {
     "name": "stdout",
     "output_type": "stream",
     "text": [
      "Num is P+\n",
      "num is odd\n"
     ]
    }
   ],
   "source": [
    "# Nested Conditional Statements\n",
    "# number is even or od ,p+\n",
    "\n",
    "num=int(input(\"Enter a number\"))\n",
    "\n",
    "if num>0:\n",
    "    print(\"Num is P+\")\n",
    "    if num%2==0:\n",
    "        print(\"num is even\")\n",
    "    else:\n",
    "        print(\"num is odd\")\n",
    "elif num==0:\n",
    "    print(\"NUmber is zero\")\n",
    "else:\n",
    "    print(\"num is negative\")\n",
    "        "
   ]
  },
  {
   "cell_type": "code",
   "execution_count": null,
   "metadata": {},
   "outputs": [
    {
     "name": "stdout",
     "output_type": "stream",
     "text": [
      "2000 it is leap year\n"
     ]
    }
   ],
   "source": [
    "#  Determine if year is a leeap year or not\n",
    "year=int(input(\"Enter a year\"))\n",
    "\n",
    "if year%4==0:\n",
    "    if year%100==0:\n",
    "        if year%400==0:\n",
    "            print(year,\"it is leap year\")\n",
    "        else:\n",
    "            print(\"nOT LEEP YEAR\")\n",
    "    else:\n",
    "        print(\"it is leep year\")\n",
    "else:\n",
    "    print(\"it is not leep year\")\n",
    "    \n",
    "#     Example Walkthrough\n",
    "# For year = 2024:\n",
    "\n",
    "# 2024 % 4 == 0 is True → enter the first if block.\n",
    "# 2024 % 100 == 0 is False → skip to the else inside the first if.\n",
    "# Print \"it is leap year\" because 2024 is a leap year.\n",
    "# For year = 1900:\n",
    "\n",
    "# 1900 % 4 == 0 is True → enter the first if block.\n",
    "# 1900 % 100 == 0 is True → enter the second if.\n",
    "# 1900 % 400 == 0 is False → go to the else of the second if.\n",
    "# Print \"NOT LEAP YEAR\" because 1900 is not a leap year.\n",
    "\n",
    "# Year 2000:\n",
    "\n",
    "# 2000 % 4 == 0 (True)\n",
    "# 2000 % 100 == 0 (True)\n",
    "# 2000 % 400 == 0 (True)\n",
    "# So, 2000 is a leap year.\n",
    "# Year 1900:\n",
    "\n",
    "# 1900 % 4 == 0 (True)\n",
    "# 1900 % 100 == 0 (True)\n",
    "# 1900 % 400 == 0 (False)\n",
    "# So, 1900 is not a leap year"
   ]
  },
  {
   "cell_type": "code",
   "execution_count": null,
   "metadata": {},
   "outputs": [],
   "source": []
  }
 ],
 "metadata": {
  "kernelspec": {
   "display_name": "Python 3",
   "language": "python",
   "name": "python3"
  },
  "language_info": {
   "codemirror_mode": {
    "name": "ipython",
    "version": 3
   },
   "file_extension": ".py",
   "mimetype": "text/x-python",
   "name": "python",
   "nbconvert_exporter": "python",
   "pygments_lexer": "ipython3",
   "version": "3.12.0"
  }
 },
 "nbformat": 4,
 "nbformat_minor": 2
}
