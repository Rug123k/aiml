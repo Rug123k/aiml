{
 "cells": [
  {
   "cell_type": "code",
   "execution_count": 1,
   "metadata": {},
   "outputs": [
    {
     "name": "stdout",
     "output_type": "stream",
     "text": [
      "not wired\n"
     ]
    }
   ],
   "source": [
    "# 1) Given an integer, , perform the following conditional actions:\n",
    "\n",
    "# If n is odd, print Weird\n",
    "# If n is even and in the inclusive range of 2 to 5 , print Not Weird\n",
    "# If n is even and in the inclusive range of 6 to 20 , print Weird\n",
    "# If n is even and greater than 20, print Not Weird\n",
    "\n",
    "n=int(input(\"Enter a number\"))\n",
    "\n",
    "if n%2 !=0:\n",
    "    print(\"Weird odd\")\n",
    "else:\n",
    "    if n >=2 and n <=5:\n",
    "        print(\"not wired\")\n",
    "    elif n>=6 and n <=20:\n",
    "        print(\"Weired range weird\")\n",
    "    elif n >20:\n",
    "        print(\"Not weird\")\n",
    "        "
   ]
  },
  {
   "cell_type": "markdown",
   "metadata": {},
   "source": [
    "# Find diff between 2 num"
   ]
  },
  {
   "cell_type": "code",
   "execution_count": 2,
   "metadata": {},
   "outputs": [
    {
     "name": "stdout",
     "output_type": "stream",
     "text": [
      "2\n"
     ]
    }
   ],
   "source": [
    "num1=int(input(\"Enter num 1\"))\n",
    "num2=int(input(\"Enter NUm 2\"))\n",
    "\n",
    "if num1-num2 >=0:\n",
    "    print(num1-num2)\n",
    "else:\n",
    "    print(num2-num1)"
   ]
  },
  {
   "cell_type": "markdown",
   "metadata": {},
   "source": [
    "Cheack if a number is odd or even"
   ]
  },
  {
   "cell_type": "code",
   "execution_count": 3,
   "metadata": {},
   "outputs": [
    {
     "name": "stdout",
     "output_type": "stream",
     "text": [
      "odd\n"
     ]
    }
   ],
   "source": [
    "n=int(input(\"Enter a number\"))\n",
    "\n",
    "if n%2==0:\n",
    "    print(\"Even\")\n",
    "else:\n",
    "    print(\"odd\")"
   ]
  },
  {
   "cell_type": "markdown",
   "metadata": {},
   "source": [
    "cheack user is authorisr foe admin access"
   ]
  },
  {
   "cell_type": "code",
   "execution_count": 4,
   "metadata": {},
   "outputs": [
    {
     "name": "stdout",
     "output_type": "stream",
     "text": [
      "not authorised\n"
     ]
    }
   ],
   "source": [
    "username=input(\"Enter name\")\n",
    "\n",
    "if username =='Rugved' or username== 'dsnjcnjs':\n",
    "    print(\"authenticate\")\n",
    "else:\n",
    "    print(\"not authorised\")"
   ]
  },
  {
   "cell_type": "markdown",
   "metadata": {},
   "source": [
    "# cheak given char is vowel or consonont"
   ]
  },
  {
   "cell_type": "code",
   "execution_count": 5,
   "metadata": {},
   "outputs": [
    {
     "name": "stdout",
     "output_type": "stream",
     "text": [
      "consonant\n"
     ]
    }
   ],
   "source": [
    "ch=input(\"Enter a lower case letter\")\n",
    "\n",
    "if ch==\"a\" or ch==\"e\" or ch==\"o\" or ch==\"i\" or ch==\"u\":\n",
    "    print(\"vowle\")\n",
    "else:\n",
    "    print(\"consonant\")"
   ]
  },
  {
   "cell_type": "markdown",
   "metadata": {},
   "source": [
    " to check whether a number is divisible by 5 and 11 or not"
   ]
  },
  {
   "cell_type": "code",
   "execution_count": 12,
   "metadata": {},
   "outputs": [
    {
     "name": "stdout",
     "output_type": "stream",
     "text": [
      "it is div by 5\n"
     ]
    }
   ],
   "source": [
    "n=int(input(\"Enter a number\"))\n",
    "\n",
    "if n%5==0:\n",
    "    print(\"it is div by 5\")\n",
    "elif n%11==0:\n",
    "    print(\"it is div by 11\")\n",
    "else:\n",
    "    print(\"Not\")"
   ]
  },
  {
   "cell_type": "code",
   "execution_count": null,
   "metadata": {},
   "outputs": [],
   "source": []
  }
 ],
 "metadata": {
  "kernelspec": {
   "display_name": "Python 3",
   "language": "python",
   "name": "python3"
  },
  "language_info": {
   "codemirror_mode": {
    "name": "ipython",
    "version": 3
   },
   "file_extension": ".py",
   "mimetype": "text/x-python",
   "name": "python",
   "nbconvert_exporter": "python",
   "pygments_lexer": "ipython3",
   "version": "3.12.0"
  }
 },
 "nbformat": 4,
 "nbformat_minor": 2
}
