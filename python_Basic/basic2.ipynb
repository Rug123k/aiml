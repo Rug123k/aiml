{
 "cells": [
  {
   "cell_type": "markdown",
   "metadata": {},
   "source": [
    "Variables"
   ]
  },
  {
   "cell_type": "markdown",
   "metadata": {},
   "source": [
    "variables are fundamental elements in programing used to store data that can be referenced and manipulated in a program\n",
    "1) Intro to variables\n",
    "2) Declarnig And Assigning Varaible\n",
    "3) Naming conventions\n",
    "4) Understanding variable types\n",
    "5) type checking and conversion\n",
    "6) Dynamic typing\n",
    "7) Practical Examples And common Errors"
   ]
  },
  {
   "cell_type": "code",
   "execution_count": 1,
   "metadata": {},
   "outputs": [
    {
     "name": "stdout",
     "output_type": "stream",
     "text": [
      "age 20\n",
      "height 5.7\n",
      "name Rugved\n",
      "is Student True\n"
     ]
    }
   ],
   "source": [
    "#declaring and Assigning variables\n",
    "age=20\n",
    "height=5.7\n",
    "name=\"Rugved\"\n",
    "is_student=True\n",
    "\n",
    "#Printing the variable\n",
    "print(\"age\",age)\n",
    "print(\"height\",height)\n",
    "print(\"name\",name)\n",
    "print(\"is Student\",is_student)"
   ]
  },
  {
   "cell_type": "code",
   "execution_count": null,
   "metadata": {},
   "outputs": [],
   "source": [
    "#  Naming conventions\n",
    "# variable Name Should be descriptive\n",
    "# start with _ and letter\n",
    "# variable names case sensitive"
   ]
  },
  {
   "cell_type": "code",
   "execution_count": 2,
   "metadata": {},
   "outputs": [
    {
     "name": "stdout",
     "output_type": "stream",
     "text": [
      "<class 'str'>\n",
      "<class 'float'>\n",
      "<class 'str'>\n",
      "<class 'bool'>\n"
     ]
    }
   ],
   "source": [
    "# variable type\n",
    "# Python is dynamic typed type of a variable is determined at run time\n",
    "age=25\n",
    "height=5.7\n",
    "name=\"Rugved\"\n",
    "is_student=True\n",
    "print(type(name))\n",
    "print(type(height))\n",
    "print(type(name))\n",
    "print(type(is_student))\n",
    "\n"
   ]
  },
  {
   "cell_type": "code",
   "execution_count": 3,
   "metadata": {},
   "outputs": [
    {
     "name": "stdout",
     "output_type": "stream",
     "text": [
      "<class 'int'>\n",
      "25\n",
      "<class 'str'>\n"
     ]
    }
   ],
   "source": [
    "# Type checking and conversion\n",
    "age=25\n",
    "print(type(age))\n",
    "# type converstion\n",
    "age_str=str(age)\n",
    "print(age_str)\n",
    "print(type(age_str))"
   ]
  },
  {
   "cell_type": "code",
   "execution_count": 5,
   "metadata": {},
   "outputs": [
    {
     "name": "stdout",
     "output_type": "stream",
     "text": [
      "<class 'int'>\n"
     ]
    }
   ],
   "source": [
    "age=\"20\"\n",
    "\n",
    "print(type(int(age)))"
   ]
  },
  {
   "cell_type": "code",
   "execution_count": 7,
   "metadata": {},
   "outputs": [
    {
     "name": "stdout",
     "output_type": "stream",
     "text": [
      "10 <class 'int'>\n",
      "hello <class 'str'>\n"
     ]
    }
   ],
   "source": [
    "# Dynamic Typing\n",
    "# python allows the type of variable to change as the programe executes\n",
    "var=10\n",
    "print(var,type(var))\n",
    "\n",
    "var='hello'\n",
    "print(var,type(var))"
   ]
  },
  {
   "cell_type": "markdown",
   "metadata": {},
   "source": [
    "Inputs"
   ]
  },
  {
   "cell_type": "code",
   "execution_count": 10,
   "metadata": {},
   "outputs": [
    {
     "name": "stdout",
     "output_type": "stream",
     "text": [
      "20 <class 'int'>\n"
     ]
    }
   ],
   "source": [
    "age=int(input(\"What is the age\"))\n",
    "print(age,type(age))"
   ]
  },
  {
   "cell_type": "markdown",
   "metadata": {},
   "source": [
    "Simple calculator\n"
   ]
  },
  {
   "cell_type": "code",
   "execution_count": 17,
   "metadata": {},
   "outputs": [
    {
     "name": "stdout",
     "output_type": "stream",
     "text": [
      "sum 42.0\n",
      "div 0.9090909090909091\n",
      "mul 440.0\n",
      "sub -2.0\n"
     ]
    }
   ],
   "source": [
    "n1=float(input(\"First number\"))\n",
    "n2=float(input(\"second num\"))\n",
    "\n",
    "sum=n1+n2\n",
    "sub=n1-n2\n",
    "div=n1/n2\n",
    "mul=n1*n2\n",
    "\n",
    "print(\"sum\",sum)\n",
    "print(\"div\",div)\n",
    "print(\"mul\",mul)\n",
    "print(\"sub\",sub)"
   ]
  },
  {
   "cell_type": "markdown",
   "metadata": {},
   "source": []
  }
 ],
 "metadata": {
  "kernelspec": {
   "display_name": "Python 3",
   "language": "python",
   "name": "python3"
  },
  "language_info": {
   "codemirror_mode": {
    "name": "ipython",
    "version": 3
   },
   "file_extension": ".py",
   "mimetype": "text/x-python",
   "name": "python",
   "nbconvert_exporter": "python",
   "pygments_lexer": "ipython3",
   "version": "3.12.0"
  }
 },
 "nbformat": 4,
 "nbformat_minor": 2
}
